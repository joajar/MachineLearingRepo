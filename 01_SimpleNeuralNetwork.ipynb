{
 "cells": [
  {
   "cell_type": "markdown",
   "metadata": {},
   "source": [
    "# Simple neural network"
   ]
  },
  {
   "cell_type": "markdown",
   "metadata": {},
   "source": [
    "Below we construct a very simple example of a neural network. Our network will solve the basic statistical task: the task of matching the linear regression line to the data."
   ]
  },
  {
   "cell_type": "markdown",
   "metadata": {},
   "source": [
    "The first step we take is to import the necessary classes from the Pythonian _Scikit Learn_ module and other necessary libraries."
   ]
  },
  {
   "cell_type": "code",
   "execution_count": 1,
   "metadata": {},
   "outputs": [],
   "source": [
    "import numpy as np\n",
    "import pandas as pd\n",
    "import matplotlib.pyplot as plt\n",
    "from sklearn.linear_model import LinearRegression\n",
    "from sklearn.metrics import mean_squared_error\n",
    "from sklearn.preprocessing import MinMaxScaler"
   ]
  },
  {
   "cell_type": "markdown",
   "metadata": {},
   "source": [
    "Next we generate the data. Of course, if we are dealing with a linear regression model, we generate a linear-like data. In fact, our data meet the assumptions made for performing a linear regression modeling: the relation between the dependent variable _y_ and the independent variable _x_ is linear, and there is an additional random influence on the dependent variable."
   ]
  },
  {
   "cell_type": "code",
   "execution_count": 2,
   "metadata": {},
   "outputs": [],
   "source": [
    "def generate_data(slope, n, standard_deviation):\n",
    "    #draw at random n numbers out of the set {0, 1 ,..., 2*n-1} (without repetitions):\n",
    "    x = np.random.choice(2*n, n, replace=False) \n",
    "    e = np.random.randn(n) * standard_deviation\n",
    "    y = (x*slope + e)\n",
    "    return x, y\n",
    "\n",
    "np.random.seed(27)\n",
    "number = 50 #data size parameter\n",
    "x, y = generate_data(2.5, number, 10)\n",
    "\n",
    "generated_data = pd.DataFrame({'feature': x, 'value': y})"
   ]
  },
  {
   "cell_type": "markdown",
   "metadata": {},
   "source": [
    "Let us see our data."
   ]
  },
  {
   "cell_type": "code",
   "execution_count": 3,
   "metadata": {},
   "outputs": [
    {
     "data": {
      "image/png": "[encoded data removed]",
      "text/plain": [
       "<Figure size 432x288 with 1 Axes>"
      ]
     },
     "metadata": {
      "needs_background": "light"
     },
     "output_type": "display_data"
    }
   ],
   "source": [
    "plt.scatter(generated_data.feature, generated_data.value)\n",
    "plt.xlabel(\"Feature - independent variable.\")\n",
    "plt.ylabel(\"Value - dependent variable.\")\n",
    "plt.show()"
   ]
  },
  {
   "cell_type": "markdown",
   "metadata": {},
   "source": [
    "We fit the linear regression model and draw the best fitted line. We are fitting the line using the `LinearRegression` class taken from Pythonian _Scikit Learn_ library. We are using it in a frame of `fit_linear_regression_model` function that returns a small _json_. Later we will see if we are able to reconstruct its contence (weight, bias and mean square error) be means of neural networks."
   ]
  },
  {
   "cell_type": "code",
   "execution_count": 4,
   "metadata": {},
   "outputs": [],
   "source": [
    "def fit_linear_regression_model(data, x_cols, y_cols):\n",
    "    model = LinearRegression()\n",
    "    x = data.loc[:, x_cols].values\n",
    "    y = data[y_cols].values\n",
    "    model.fit(x, y)\n",
    "    y_hat = (np.dot(model.coef_, x.T) + model.intercept_)\n",
    "    mse = mean_squared_error(y, y_hat)\n",
    "    return {\n",
    "        'weight': model.coef_[0],\n",
    "        'bias': model.intercept_,\n",
    "        'mse': mse\n",
    "    }\n",
    "\n",
    "regression_model = fit_linear_regression_model(generated_data, ['feature'], 'value')"
   ]
  },
  {
   "cell_type": "markdown",
   "metadata": {},
   "source": [
    "Let us look at the values of our _json_ (dictionary) `regression_model`:"
   ]
  },
  {
   "cell_type": "code",
   "execution_count": 5,
   "metadata": {},
   "outputs": [
    {
     "data": {
      "text/plain": [
       "{'weight': 2.4484971440931442,\n",
       " 'bias': 3.9320232835498814,\n",
       " 'mse': 73.74287665166942}"
      ]
     },
     "execution_count": 5,
     "metadata": {},
     "output_type": "execute_result"
    }
   ],
   "source": [
    "regression_model"
   ]
  },
  {
   "cell_type": "markdown",
   "metadata": {},
   "source": [
    "Let's draw our data together with the regression line."
   ]
  },
  {
   "cell_type": "code",
   "execution_count": 6,
   "metadata": {},
   "outputs": [
    {
     "data": {
      "image/png": "[encoded data removed]",
      "text/plain": [
       "<Figure size 432x288 with 1 Axes>"
      ]
     },
     "metadata": {
      "needs_background": "light"
     },
     "output_type": "display_data"
    }
   ],
   "source": [
    "x = np.linspace(0,2*number,1000)\n",
    "y = x*regression_model['weight'] + regression_model['bias']\n",
    "plt.plot(x, y, 'r-')\n",
    "plt.scatter(generated_data.feature, generated_data.value)\n",
    "plt.xlabel(\"Feature - independent variable.\")\n",
    "plt.ylabel(\"Value - dependent variable.\")\n",
    "plt.show()"
   ]
  },
  {
   "cell_type": "markdown",
   "metadata": {},
   "source": [
    "The basic notion here is the _neuron_. For us, the neuron means simply a linear function, with the slope `=weight` and the intercept `=bias`, as defined below:"
   ]
  },
  {
   "cell_type": "code",
   "execution_count": 7,
   "metadata": {},
   "outputs": [],
   "source": [
    "def get_neuron_value(x, weight, bias):\n",
    "    return x * weight + bias"
   ]
  },
  {
   "cell_type": "markdown",
   "metadata": {},
   "source": [
    "In neural network approach we do not calculate the slope and the intercept directly, e.g. by means of the normal equation, how it is done using the classical least squares approach for the linear regression. Instead, we pick some arbitrary initial intercept and slope, and next judge (and consequently - change) these values by means of the loss function - here the loss function is equal to the square of the distance between the prediction given by the neuron `y_hat` and the value `y`. As we operate on vectors, we calculate the mean of those squares:"
   ]
  },
  {
   "cell_type": "code",
   "execution_count": 8,
   "metadata": {},
   "outputs": [],
   "source": [
    "def calculate_mean_square_error_loss(y_hat, y):\n",
    "    return np.mean(np.power(y_hat - y, 2))"
   ]
  },
  {
   "cell_type": "markdown",
   "metadata": {},
   "source": [
    "Consequently, we may calculate MSE for our given pair: `generated_data` and the neuron, defined by `weight` and `bias`. We achieve it by composing the function `get_neuron_value` and the function `compute_mean_square_error_loss`:"
   ]
  },
  {
   "cell_type": "code",
   "execution_count": 9,
   "metadata": {},
   "outputs": [],
   "source": [
    "def mse(x, y, weight, bias):\n",
    "    y_hat = get_neuron_value(x, weight, bias)\n",
    "    return calculate_mean_square_error_loss(y_hat, y)"
   ]
  },
  {
   "cell_type": "markdown",
   "metadata": {},
   "source": [
    "We will use this idea to train our network (consited of one neuron) in order to fit do given data. Training means changing, and we are going to change `weight` and `bias` in such a way that minimalize the loss function (square mean error). In order to achieve it, we will _move_ `weight` and `bias` values in the direction computed as the mean gradient of mean square error function. This direction may be calculated as follows:"
   ]
  },
  {
   "cell_type": "code",
   "execution_count": 10,
   "metadata": {},
   "outputs": [],
   "source": [
    "def get_change_direction(y_hat, x, y):\n",
    "    delta_weight, delta_bias = np.mean(2*(y_hat - y)*x), np.mean(2*(y_hat - y))\n",
    "    return delta_weight, delta_bias"
   ]
  },
  {
   "cell_type": "markdown",
   "metadata": {},
   "source": [
    "After calculating the direction of change, we may update `weight` and `bias`, using the _learning rate_ `alpha` in order to rescale the direction vector:"
   ]
  },
  {
   "cell_type": "code",
   "execution_count": 11,
   "metadata": {},
   "outputs": [],
   "source": [
    "def update_parameters(weight, bias, alpha, delta_weight, delta_bias):\n",
    "    new_weight = weight - alpha * delta_weight\n",
    "    new_bias = bias - alpha * delta_bias\n",
    "    return new_weight, new_bias"
   ]
  },
  {
   "cell_type": "markdown",
   "metadata": {},
   "source": [
    "Now we may gather everything together and define a function that will iteratively fit `weight` and `bias` in order to find such ones that minimalize the loss function."
   ]
  },
  {
   "cell_type": "code",
   "execution_count": 12,
   "metadata": {},
   "outputs": [],
   "source": [
    "def train(x, y, weight, bias, alpha, epochs):\n",
    "    new_weight, new_bias = weight, bias\n",
    "    \n",
    "    for e in range(epochs): \n",
    "        y_hat = get_neuron_value(x, new_weight, new_bias)\n",
    "        delta_weight, delta_bias = get_change_direction(y_hat, x, y)\n",
    "        new_weight, new_bias = update_parameters(new_weight, new_bias, alpha, delta_weight, delta_bias)\n",
    "        if e % (epochs / 20) == 0:\n",
    "            loss = calculate_mean_square_error_loss(y_hat, y)\n",
    "            print(f'Cost after {e} epochs is: {loss}')\n",
    "            \n",
    "    result_weight, result_bias = new_weight, new_bias\n",
    "    \n",
    "    return result_weight, result_bias"
   ]
  },
  {
   "cell_type": "markdown",
   "metadata": {},
   "source": [
    "We may start to train our one-neuron network. Let us see if we may recover the values obtained at `regression_model`."
   ]
  },
  {
   "cell_type": "code",
   "execution_count": 13,
   "metadata": {},
   "outputs": [
    {
     "name": "stdout",
     "output_type": "stream",
     "text": [
      "Cost after 0 epochs is: 14491.12625058344\n",
      "Cost after 2500 epochs is: 76.00614833202593\n",
      "Cost after 5000 epochs is: 75.50347785475617\n",
      "Cost after 7500 epochs is: 75.1124500101017\n",
      "Cost after 10000 epochs is: 74.808269076052\n",
      "Cost after 12500 epochs is: 74.57164643675861\n",
      "Cost after 15000 epochs is: 74.38757745951952\n",
      "Cost after 17500 epochs is: 74.24439002621624\n",
      "Cost after 20000 epochs is: 74.13300438500995\n",
      "Cost after 22500 epochs is: 74.04635738826777\n",
      "Cost after 25000 epochs is: 73.97895460669629\n",
      "Cost after 27500 epochs is: 73.92652191849704\n",
      "Cost after 30000 epochs is: 73.88573448023865\n",
      "Cost after 32500 epochs is: 73.85400589303818\n",
      "Cost after 35000 epochs is: 73.82932419473288\n",
      "Cost after 37500 epochs is: 73.8101242780337\n",
      "Cost after 40000 epochs is: 73.79518864448461\n",
      "Cost after 42500 epochs is: 73.78357020087329\n",
      "Cost after 45000 epochs is: 73.77453220248466\n",
      "Cost after 47500 epochs is: 73.76750153490079\n"
     ]
    },
    {
     "data": {
      "text/plain": [
       "(2.4524739047840605, 3.655877873863684)"
      ]
     },
     "execution_count": 13,
     "metadata": {},
     "output_type": "execute_result"
    }
   ],
   "source": [
    "train(generated_data.feature, generated_data.value, 0.5, 0.5, alpha=0.0001, epochs=50000)"
   ]
  },
  {
   "cell_type": "markdown",
   "metadata": {},
   "source": [
    "We see that we are very close to the values of `regression_model` - we may be even closer provided we would use more epochs for training. However it seems strage that we need them so many! In order to reduce the number of epochs needed to train the model, we should normalize the data. But it is the topic for another story..."
   ]
  }
 ],
 "metadata": {
  "kernelspec": {
   "display_name": "Python 3",
   "language": "python",
   "name": "python3"
  },
  "language_info": {
   "codemirror_mode": {
    "name": "ipython",
    "version": 3
   },
   "file_extension": ".py",
   "mimetype": "text/x-python",
   "name": "python",
   "nbconvert_exporter": "python",
   "pygments_lexer": "ipython3",
   "version": "3.7.3"
  }
 },
 "nbformat": 4,
 "nbformat_minor": 2
}
